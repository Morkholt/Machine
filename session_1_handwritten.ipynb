{
 "cells": [
  {
   "cell_type": "code",
   "execution_count": 1,
   "metadata": {},
   "outputs": [
    {
     "name": "stderr",
     "output_type": "stream",
     "text": [
      "c:\\Users\\leiyo\\Anaconda3\\lib\\site-packages\\scipy\\__init__.py:155: UserWarning: A NumPy version >=1.18.5 and <1.25.0 is required for this version of SciPy (detected version 1.26.2\n",
      "  warnings.warn(f\"A NumPy version >={np_minversion} and <{np_maxversion}\"\n"
     ]
    }
   ],
   "source": [
    "import tensorflow as tf\n",
    "from tensorflow.keras.datasets import mnist"
   ]
  },
  {
   "cell_type": "code",
   "execution_count": 2,
   "metadata": {},
   "outputs": [],
   "source": [
    "(x_train, y_train), (x_test, y_test) = mnist.load_data()"
   ]
  },
  {
   "cell_type": "code",
   "execution_count": 6,
   "metadata": {},
   "outputs": [],
   "source": [
    "import numpy as np"
   ]
  },
  {
   "cell_type": "code",
   "execution_count": 8,
   "metadata": {},
   "outputs": [],
   "source": [
    "import matplotlib.pyplot as plt"
   ]
  },
  {
   "cell_type": "code",
   "execution_count": 11,
   "metadata": {},
   "outputs": [
    {
     "data": {
      "image/png": "[encoded data removed]",
      "text/plain": [
       "<Figure size 640x480 with 1 Axes>"
      ]
     },
     "metadata": {},
     "output_type": "display_data"
    }
   ],
   "source": [
    "import matplotlib.pyplot as plt\n",
    "\n",
    "# Select an index of the image you want to visualize\n",
    "image_index = 251  # You can change this index to any value between 0 and the length of x_train or x_test\n",
    "\n",
    "# Display the image\n",
    "plt.imshow(x_train[image_index], cmap='gray')\n",
    "plt.title('Digit from x_train: {}'.format(y_train[image_index]))\n",
    "plt.axis('off')  # Turn off the axis\n",
    "plt.show()"
   ]
  },
  {
   "cell_type": "code",
   "execution_count": 12,
   "metadata": {},
   "outputs": [],
   "source": [
    "x_train = x_train.reshape(x_train.shape[0], 28, 28, 1)\n",
    "x_test = x_test.reshape(x_test.shape[0], 28, 28, 1)\n",
    "input_shape = (28, 28, 1)\n",
    "# Normalize the pixel values from a scale out of 255 to a scale out of 1\n",
    "x_train, x_test = x_train / 255.0, x_test / 255.0"
   ]
  },
  {
   "cell_type": "code",
   "execution_count": 13,
   "metadata": {},
   "outputs": [],
   "source": [
    "y_train = tf.keras.utils.to_categorical(y_train, 10)\n",
    "y_test = tf.keras.utils.to_categorical(y_test, 10)"
   ]
  },
  {
   "cell_type": "code",
   "execution_count": 15,
   "metadata": {},
   "outputs": [],
   "source": [
    "import tensorflow as tf\n",
    "from tensorflow.keras.models import Sequential\n",
    "from tensorflow.keras.layers import Dense, Dropout, Flatten\n",
    "from tensorflow.keras.layers import Conv2D, MaxPooling2D"
   ]
  },
  {
   "cell_type": "code",
   "execution_count": 16,
   "metadata": {},
   "outputs": [],
   "source": [
    "model = Sequential()\n",
    "model.add(Conv2D(32, kernel_size=(3, 3),\n",
    "activation='relu', input_shape=input_shape))\n",
    "model.add(Conv2D(64, (3, 3), activation='relu'))\n",
    "model.add(MaxPooling2D(pool_size=(2, 2)))\n",
    "model.add(Dropout(0.25))\n",
    "model.add(Flatten())\n",
    "model.add(Dense(128, activation='relu'))\n",
    "model.add(Dropout(0.5))\n",
    "model.add(Dense(10, activation='softmax')) # we have 10 digits"
   ]
  },
  {
   "cell_type": "code",
   "execution_count": 17,
   "metadata": {},
   "outputs": [],
   "source": [
    "model.compile(loss=tf.keras.losses.categorical_crossentropy,\n",
    "optimizer=tf.keras.optimizers.Adadelta(),\n",
    "metrics=['accuracy'])"
   ]
  },
  {
   "cell_type": "code",
   "execution_count": 18,
   "metadata": {},
   "outputs": [
    {
     "name": "stdout",
     "output_type": "stream",
     "text": [
      "Test loss (before training): 2.3051719665527344\n",
      "Test accuracy (before training): 0.10480000078678131\n"
     ]
    }
   ],
   "source": [
    "score = model.evaluate(x_test, y_test, verbose=0)\n",
    "print('Test loss (before training):', score[0])\n",
    "print('Test accuracy (before training):', score[1])"
   ]
  },
  {
   "cell_type": "code",
   "execution_count": 19,
   "metadata": {},
   "outputs": [
    {
     "name": "stdout",
     "output_type": "stream",
     "text": [
      "Epoch 1/10\n",
      "469/469 [==============================] - 87s 183ms/step - loss: 2.2753 - accuracy: 0.1481 - val_loss: 2.2329 - val_accuracy: 0.2760\n",
      "Epoch 2/10\n",
      "469/469 [==============================] - 85s 181ms/step - loss: 2.2000 - accuracy: 0.2587 - val_loss: 2.1386 - val_accuracy: 0.4581\n",
      "Epoch 3/10\n",
      "469/469 [==============================] - 90s 192ms/step - loss: 2.1010 - accuracy: 0.3670 - val_loss: 2.0060 - val_accuracy: 0.5911\n",
      "Epoch 4/10\n",
      "469/469 [==============================] - 85s 182ms/step - loss: 1.9622 - accuracy: 0.4718 - val_loss: 1.8280 - val_accuracy: 0.6845\n",
      "Epoch 5/10\n",
      "469/469 [==============================] - 87s 185ms/step - loss: 1.7891 - accuracy: 0.5438 - val_loss: 1.6105 - val_accuracy: 0.7289\n",
      "Epoch 6/10\n",
      "469/469 [==============================] - 87s 185ms/step - loss: 1.5967 - accuracy: 0.5889 - val_loss: 1.3838 - val_accuracy: 0.7619\n",
      "Epoch 7/10\n",
      "469/469 [==============================] - 86s 184ms/step - loss: 1.4112 - accuracy: 0.6245 - val_loss: 1.1772 - val_accuracy: 0.7831\n",
      "Epoch 8/10\n",
      "469/469 [==============================] - 94s 201ms/step - loss: 1.2556 - accuracy: 0.6516 - val_loss: 1.0087 - val_accuracy: 0.7984\n",
      "Epoch 9/10\n",
      "469/469 [==============================] - 91s 194ms/step - loss: 1.1284 - accuracy: 0.6788 - val_loss: 0.8811 - val_accuracy: 0.8116\n",
      "Epoch 10/10\n",
      "469/469 [==============================] - 88s 187ms/step - loss: 1.0320 - accuracy: 0.6957 - val_loss: 0.7846 - val_accuracy: 0.8248\n"
     ]
    },
    {
     "data": {
      "text/plain": [
       "<keras.src.callbacks.History at 0x210201878b0>"
      ]
     },
     "execution_count": 19,
     "metadata": {},
     "output_type": "execute_result"
    }
   ],
   "source": [
    "model.fit(\n",
    "    x_train, y_train, \n",
    "    batch_size=128, \n",
    "    epochs=10, \n",
    "    verbose=1,\n",
    "    validation_data=(x_test, y_test)\n",
    ")"
   ]
  },
  {
   "cell_type": "code",
   "execution_count": 20,
   "metadata": {},
   "outputs": [
    {
     "name": "stdout",
     "output_type": "stream",
     "text": [
      "Test loss: 0.7845525741577148\n",
      "Test accuracy: 0.8248000144958496\n"
     ]
    }
   ],
   "source": [
    "score = model.evaluate(x_test, y_test, verbose=0)\n",
    "print('Test loss:', score[0])\n",
    "print('Test accuracy:', score[1])"
   ]
  },
  {
   "cell_type": "code",
   "execution_count": null,
   "metadata": {},
   "outputs": [],
   "source": []
  }
 ],
 "metadata": {
  "kernelspec": {
   "display_name": "base",
   "language": "python",
   "name": "python3"
  },
  "language_info": {
   "codemirror_mode": {
    "name": "ipython",
    "version": 3
   },
   "file_extension": ".py",
   "mimetype": "text/x-python",
   "name": "python",
   "nbconvert_exporter": "python",
   "pygments_lexer": "ipython3",
   "version": "3.9.13"
  }
 },
 "nbformat": 4,
 "nbformat_minor": 2
}
