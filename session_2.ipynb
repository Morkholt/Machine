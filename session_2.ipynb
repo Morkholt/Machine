{
 "cells": [
  {
   "cell_type": "code",
   "execution_count": null,
   "metadata": {},
   "outputs": [],
   "source": [
    "import pandas as pd\n",
    "from sklearn.model_selection import train_test_split\n",
    "from sklearn.linear_model import LogisticRegression\n",
    "from sklearn.metrics import accuracy_score, classification_report"
   ]
  },
  {
   "cell_type": "code",
   "execution_count": null,
   "metadata": {},
   "outputs": [],
   "source": [
    "# Sample data\n",
    "data = {\n",
    "    'X1': [2, 3, 5, 7, 9, 6, 4, 8, 1, 0],\n",
    "    'X2': [1, 4, 7, 2, 8, 3, 5, 0, 6, 9],\n",
    "    'Y': [0, 0, 1, 1, 1, 0, 0, 1, 1, 0]\n",
    "}"
   ]
  },
  {
   "cell_type": "code",
   "execution_count": null,
   "metadata": {},
   "outputs": [],
   "source": [
    "# Creating a DataFrame\n",
    "df = pd.DataFrame(data)\n",
    "\n",
    "# Splitting the data into features and target variable\n",
    "X = df[['X1', 'X2']]\n",
    "y = df['Y']"
   ]
  },
  {
   "cell_type": "code",
   "execution_count": null,
   "metadata": {},
   "outputs": [],
   "source": [
    "# Splitting the dataset into training and testing sets\n",
    "X_train, X_test, y_train, y_test = train_test_split(X, y, test_size=0.3, random_state=42)\n",
    "\n",
    "# Creating a Logistic Regression model\n",
    "model = LogisticRegression()\n",
    "\n",
    "# Training the model\n",
    "model.fit(X_train, y_train)\n",
    "\n",
    "# Making predictions\n",
    "y_pred = model.predict(X_test)\n"
   ]
  },
  {
   "cell_type": "code",
   "execution_count": null,
   "metadata": {},
   "outputs": [],
   "source": [
    "# Evaluating the model\n",
    "accuracy = accuracy_score(y_test, y_pred)\n",
    "report = classification_report(y_test, y_pred)\n",
    "\n",
    "print(\"Accuracy:\", accuracy)\n",
    "print(\"Classification Report:\\n\", report)"
   ]
  },
  {
   "cell_type": "code",
   "execution_count": null,
   "metadata": {},
   "outputs": [],
   "source": [
    "import numpy as np\n",
    "import matplotlib.pyplot as plt\n",
    "import seaborn as sns\n",
    "\n",
    "# Setting seaborn style\n",
    "sns.set(style=\"whitegrid\")\n",
    "\n",
    "# Step 1: Choose a distribution \n",
    "# You can try different distributions\n",
    "size = 10000\n",
    "# original_distribution = np.random.exponential(1.0, size)\n",
    "original_distribution = np.random.uniform(0, 1, size)\n",
    "# original_distribution = np.random.binomial(10, 0.5, size)\n",
    "\n",
    "# Step 2 & 3: Generate samples and calculate their means\n",
    "sample_sizes = [1, 5, 10, 2000]  # Different sample sizes\n",
    "mean_of_samples = {sample_size: [np.mean(np.random.choice(original_distribution, sample_size))\n",
    "                                  for _ in range(1000)] for sample_size in sample_sizes}\n",
    "\n",
    "# Step 4: Plot the distribution of these sample means\n",
    "plt.figure(figsize=(10, 8))\n",
    "for i, sample_size in enumerate(sample_sizes, 1):\n",
    "    plt.subplot(2, 2, i)\n",
    "    sns.histplot(mean_of_samples[sample_size], kde=True, color='skyblue', bins=30)\n",
    "    plt.title(f'Sample Size: {sample_size}', fontsize=16)\n",
    "    plt.xlabel('Sample Mean', fontsize=14)\n",
    "    plt.ylabel('Frequency', fontsize=14)\n",
    "\n",
    "plt.tight_layout()\n",
    "\n",
    "plt.savefig('pictures/central_limit_theorem.pdf')\n",
    "\n",
    "plt.show()\n"
   ]
  },
  {
   "cell_type": "code",
   "execution_count": null,
   "metadata": {},
   "outputs": [],
   "source": []
  }
 ],
 "metadata": {
  "kernelspec": {
   "display_name": "base",
   "language": "python",
   "name": "python3"
  },
  "language_info": {
   "codemirror_mode": {
    "name": "ipython",
    "version": 3
   },
   "file_extension": ".py",
   "mimetype": "text/x-python",
   "name": "python",
   "nbconvert_exporter": "python",
   "pygments_lexer": "ipython3",
   "version": "3.9.13"
  }
 },
 "nbformat": 4,
 "nbformat_minor": 2
}
